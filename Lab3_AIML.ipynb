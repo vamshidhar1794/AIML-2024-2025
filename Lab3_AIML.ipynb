{
  "nbformat": 4,
  "nbformat_minor": 0,
  "metadata": {
    "colab": {
      "provenance": [],
      "authorship_tag": "ABX9TyMZUcxIXCxjS9+Ncg2WAIDW",
      "include_colab_link": true
    },
    "kernelspec": {
      "name": "python3",
      "display_name": "Python 3"
    },
    "language_info": {
      "name": "python"
    }
  },
  "cells": [
    {
      "cell_type": "markdown",
      "metadata": {
        "id": "view-in-github",
        "colab_type": "text"
      },
      "source": [
        "<a href=\"https://colab.research.google.com/github/2303A51094/AIML-2025/blob/main/Lab3_AIML.ipynb\" target=\"_parent\"><img src=\"https://colab.research.google.com/assets/colab-badge.svg\" alt=\"Open In Colab\"/></a>"
      ]
    },
    {
      "cell_type": "markdown",
      "source": [
        "#implement the AI game stratergy"
      ],
      "metadata": {
        "id": "wIvmbwhxZ1xj"
      }
    },
    {
      "cell_type": "markdown",
      "source": [
        "#install the python libraries required for game stratergy"
      ],
      "metadata": {
        "id": "-8KPzl9paA5z"
      }
    },
    {
      "cell_type": "code",
      "source": [
        "import collections import namedtuple,counter,defaultict\n",
        "import random\n",
        "import math\n",
        "import functools\n",
        "cache = functools.lru cache(10**6)"
      ],
      "metadata": {
        "id": "4EVOboyAaKvZ"
      },
      "execution_count": null,
      "outputs": []
    },
    {
      "cell_type": "markdown",
      "source": [
        "#Game Class"
      ],
      "metadata": {
        "id": "tjWBRkacabm5"
      }
    },
    {
      "cell_type": "code",
      "source": [
        "class Game:\n",
        "    def actions(self, state):\n",
        "        \"\"\"Return a collection of the allowable moves from this state.\"\"\"\n",
        "        raise NotImplementedError\n",
        "\n",
        "    def result(self, state, move):\n",
        "        \"\"\"Return the state that results from making a move from a state.\"\"\"\n",
        "        raise NotImplementedError\n",
        "\n",
        "    def is_terminal(self, state):\n",
        "        \"\"\"Return True if this is a final state for the game.\"\"\"\n",
        "        return not self.actions(state)\n",
        "\n",
        "    def utility(self, state, player):\n",
        "        \"\"\"Return the value of this final state to player.\"\"\"\n",
        "        raise NotImplementedError"
      ],
      "metadata": {
        "id": "sWlJ5JgIaim7"
      },
      "execution_count": null,
      "outputs": []
    },
    {
      "cell_type": "markdown",
      "source": [
        "#Implement player game using the game class constructor"
      ],
      "metadata": {
        "id": "nV0tIaqHbnht"
      }
    },
    {
      "cell_type": "code",
      "source": [
        "def play_game(game, strategies: dict, verbose=False):\n",
        "    \"\"\"\n",
        "    Play a turn-taking game. strategies is a dictionary where the keys are player names,\n",
        "    and the values are functions that take the current state and the game as arguments,\n",
        "    returning the player's move.\n",
        "    \"\"\"\n",
        "    state = game.initial\n",
        "    while not game.is_terminal(state):\n",
        "        player = state.to_move\n",
        "        move = strategies[player](state, game)\n",
        "        state = game.result(state, move)\n",
        "        if verbose:\n",
        "            print('Player', player, 'move:', move)\n",
        "            print(state)\n",
        "    return state"
      ],
      "metadata": {
        "id": "Q63mm8KccAcW"
      },
      "execution_count": null,
      "outputs": []
    },
    {
      "cell_type": "markdown",
      "source": [
        "#Part 2- Implement the game stratergy algorithms"
      ],
      "metadata": {
        "id": "1wwZKFHNdHEM"
      }
    },
    {
      "cell_type": "markdown",
      "source": [
        "#. Implement the MiniMax Search Algorithm"
      ],
      "metadata": {
        "id": "IkFUuR1MdXBz"
      }
    },
    {
      "cell_type": "code",
      "source": [
        "import math\n",
        "\n",
        "def minimax_search(game, state):\n",
        "    \"\"\"Search game tree to determine best move; return (value, move) pair.\"\"\"\n",
        "    player = state.to_move\n",
        "\n",
        "    def max_value(state):\n",
        "        if game.is_terminal(state):\n",
        "            return game.utility(state, player), None\n",
        "        v, move = -math.inf, None\n",
        "        for a in game.actions(state):\n",
        "            v2, _ = min_value(game.result(state, a))\n",
        "            if v2 > v:\n",
        "                v, move = v2, a\n",
        "        return v, move\n",
        "\n",
        "    def min_value(state):\n",
        "        if game.is_terminal(state):\n",
        "            return game.utility(state, player), None\n",
        "        v, move = math.inf, None\n",
        "        for a in game.actions(state):\n",
        "            v2, _ = max_value(game.result(state, a))\n",
        "            if v2 < v:\n",
        "                v, move = v2, a\n",
        "        return v, move\n",
        "\n",
        "    return max_value(state)\n"
      ],
      "metadata": {
        "id": "e2ZEfwnRdiSK"
      },
      "execution_count": null,
      "outputs": []
    },
    {
      "cell_type": "markdown",
      "source": [
        "#Implement the Alpha-Beta search Algorithm"
      ],
      "metadata": {
        "id": "7mIpuqTld98b"
      }
    },
    {
      "cell_type": "code",
      "source": [
        "def alphabeta_search(game, state):\n",
        "    \"\"\"Search game to determine best action; use alpha-beta pruning.\n",
        "    Search all the way to the leaves.\n",
        "    \"\"\"\n",
        "    player = state.to_move\n",
        "\n",
        "    def max_value(state, alpha, beta):\n",
        "        if game.is_terminal(state):\n",
        "            return game.utility(state, player), None\n",
        "        v, move = float('-inf'), None\n",
        "        for a in game.actions(state):\n",
        "            v2, _ = min_value(game.result(state, a), alpha, beta)\n",
        "            if v2 > v:\n",
        "                v, move = v2, a\n",
        "            alpha = max(alpha, v)\n",
        "            if v >= beta:\n",
        "                return v, move\n",
        "        return v, move\n",
        "\n",
        "    def min_value(state, alpha, beta):\n",
        "        if game.is_terminal(state):\n",
        "            return game.utility(state, player), None\n",
        "        v, move = float('inf'), None\n",
        "        for a in game.actions(state):\n",
        "            v2, _ = max_value(game.result(state, a), alpha, beta)\n",
        "            if v2 < v:\n",
        "                v, move = v2, a\n",
        "            beta = min(beta, v)\n",
        "            if v <= alpha:\n",
        "                return v, move\n",
        "        return v, move\n",
        "\n",
        "    return max_value(state, float('-inf'), float('inf'))\n"
      ],
      "metadata": {
        "id": "AXjO2rvBehiL"
      },
      "execution_count": null,
      "outputs": []
    },
    {
      "cell_type": "markdown",
      "source": [
        "#Implement the Game stratergy using TicTocToe."
      ],
      "metadata": {
        "id": "eOZrzZHie3au"
      }
    },
    {
      "cell_type": "code",
      "source": [
        "class TicTacToe(Game):\n",
        "    \"\"\"Play TicTacToe on a 'height' by 'width' board, needing 'k' in a row to win.\n",
        "    'X' plays first against 'O'.\"\"\"\n",
        "\n",
        "    def __init__(self, height=3, width=3, k=3):\n",
        "        self.k = k  # k in a row to win\n",
        "        self.squares = {(x, y) for x in range(width) for y in range(height)}\n",
        "        self.initial = Board(height=height, width=width, to_move='X', utility=0)\n",
        "\n",
        "    def actions(self, board):\n",
        "        \"\"\"Legal moves are any square not yet taken.\"\"\"\n",
        "        return self.squares - set(board.moves)\n",
        "\n",
        "    def result(self, board, square):\n",
        "        \"\"\"Place a marker for the current player on the square.\"\"\"\n",
        "        player = board.to_move\n",
        "        board = board.new({square: player}, to_move=('O' if player == 'X' else 'X'))\n",
        "        win = self.k_in_row(board, player, square, self.k)\n",
        "        board.utility = (0 if not win else +1 if player == 'X' else -1)\n",
        "        return board\n",
        "\n",
        "    def utility(self, board, player):\n",
        "        \"\"\"Return the value to player; 1 for win, -1 for loss, 0 otherwise.\"\"\"\n",
        "        return board.utility if player == 'X' else -board.utility\n",
        "\n",
        "    def is_terminal(self, board):\n",
        "        \"\"\"A board is a terminal state if it is won or there are no empty squares.\"\"\"\n",
        "        return board.utility != 0 or len(self.squares) == len(board.moves)\n",
        "\n",
        "    def display(self, board):\n",
        "        \"\"\"Display the board.\"\"\"\n",
        "        print(board)\n",
        "\n",
        "    def k_in_row(self, board, player, square, k):\n",
        "        \"\"\"Return True if the player has k pieces in a line through square.\"\"\"\n",
        "        def in_row(x, y, dx, dy):\n",
        "            \"\"\"Return the number of pieces in a row from (x, y) in direction (dx, dy).\"\"\"\n",
        "            if (x, y) not in board.moves or board.moves[(x, y)] != player:\n",
        "                return 0\n",
        "            return 1 + in_row(x + dx, y + dy, dx, dy)\n",
        "\n",
        "        x, y = square\n",
        "        return any(in_row(x, y, dx, dy) + in_row(x - dx, y - dy, dx, dy) - 1 >= k\n",
        "                   for (dx, dy) in [(0, 1), (1, 0), (1, 1), (1, -1)])\n"
      ],
      "metadata": {
        "id": "kKA70ZonfrWr"
      },
      "execution_count": null,
      "outputs": []
    },
    {
      "cell_type": "markdown",
      "source": [
        "#Implement a Game Board using defaultdict using init , new, missing , hash ,\n",
        "repr\n",
        "c"
      ],
      "metadata": {
        "id": "uGbRET2Xf_rC"
      }
    },
    {
      "cell_type": "code",
      "source": [
        "from collections import defaultdict\n",
        "\n",
        "class Board(defaultdict):\n",
        "    \"\"\"A board has the player to move, a cached utility value,\n",
        "    and a dict of {(x, y): player} entries, where player is 'X' or 'O'.\"\"\"\n",
        "\n",
        "    empty = '.'\n",
        "    off = '#'\n",
        "\n",
        "    def __init__(self, width=8, height=8, to_move=None, **kwds):\n",
        "        super().__init__(self.missing)\n",
        "        self.width = width\n",
        "        self.height = height\n",
        "        self.to_move = to_move\n",
        "        self.update(kwds)\n",
        "\n",
        "    def new(self, changes: dict, **kwds) -> 'Board':\n",
        "        \"Given a dict of {(x, y): contents} changes, return a new Board with the changes.\"\n",
        "        board = Board(width=self.width, height=self.height, to_move=self.to_move, **kwds)\n",
        "        board.update(self)\n",
        "        board.update(changes)\n",
        "        return board\n",
        "\n",
        "    def missing(self, loc):\n",
        "        x, y = loc\n",
        "        if 0 <= x < self.width and 0 <= y < self.height:\n",
        "            return self.empty\n",
        "        else:\n",
        "            return self.off\n",
        "\n",
        "    def __hash__(self):\n",
        "        return hash(tuple(sorted(self.items()))) + hash(self.to_move)\n",
        "\n",
        "    def __repr__(self):\n",
        "        def row(y): return ' '.join(self[x, y] for x in range(self.width))\n",
        "        return '\\n'.join(map(row, range(self.height))) + '\\n'\n"
      ],
      "metadata": {
        "id": "FCrM8aYNgYry"
      },
      "execution_count": null,
      "outputs": []
    },
    {
      "cell_type": "markdown",
      "source": [
        "# Implement random player(game,state) and player(search algorithm)"
      ],
      "metadata": {
        "id": "u448n50zg6T3"
      }
    },
    {
      "cell_type": "code",
      "source": [
        "import random\n",
        "\n",
        "def random_player(game, state):\n",
        "    return random.choice(list(game.actions(state)))\n",
        "\n",
        "def player(search_algorithm):\n",
        "    \"\"\"A game player who uses the specified search algorithm\"\"\"\n",
        "    return lambda game, state: search_algorithm(game, state)[1]\n"
      ],
      "metadata": {
        "id": "YN9pAO6FhNod"
      },
      "execution_count": null,
      "outputs": []
    },
    {
      "cell_type": "markdown",
      "source": [
        "#Part 4 – Evaluate the AI Game Strategy using TicTocToe"
      ],
      "metadata": {
        "id": "n1mfCZ4coWP-"
      }
    },
    {
      "cell_type": "code",
      "source": [],
      "metadata": {
        "id": "_KAAJXPdooWq"
      },
      "execution_count": null,
      "outputs": []
    }
  ]
}